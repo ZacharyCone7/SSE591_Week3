{
 "cells": [
  {
   "cell_type": "markdown",
   "metadata": {},
   "source": [
    "# Installing and Using Pandas"
   ]
  },
  {
   "cell_type": "code",
   "execution_count": 3,
   "metadata": {},
   "outputs": [
    {
     "name": "stdout",
     "output_type": "stream",
     "text": [
      "Pandas version: 1.5.3\n",
      "NumPy version: 1.24.2\n"
     ]
    }
   ],
   "source": [
    "import pandas as pd\n",
    "import numpy as np\n",
    "print('Pandas version:',pd.__version__ )\n",
    "print('NumPy version:',np.__version__ )"
   ]
  },
  {
   "cell_type": "markdown",
   "metadata": {},
   "source": [
    "# Introducing Panda Objects"
   ]
  },
  {
   "cell_type": "markdown",
   "metadata": {},
   "source": [
    "## Pandas Series Objects"
   ]
  },
  {
   "cell_type": "code",
   "execution_count": 13,
   "metadata": {},
   "outputs": [
    {
     "name": "stdout",
     "output_type": "stream",
     "text": [
      "0      2.5\n",
      "1     3.14\n",
      "2    Tacos\n",
      "3        7\n",
      "dtype: object\n"
     ]
    }
   ],
   "source": [
    "data = pd.Series([2.5, 3.14, 'Tacos', 7])\n",
    "\n",
    "print(data)"
   ]
  },
  {
   "cell_type": "markdown",
   "metadata": {},
   "source": [
    "### Series as NumPy array"
   ]
  },
  {
   "cell_type": "code",
   "execution_count": 37,
   "metadata": {},
   "outputs": [
    {
     "name": "stdout",
     "output_type": "stream",
     "text": [
      "The whole series:\n",
      " 1.     0.0\n",
      "2.     2.5\n",
      "3.     5.0\n",
      "4.     7.5\n",
      "5.    10.0\n",
      "dtype: float64\n",
      "\n",
      "The specified series: 5.0\n"
     ]
    }
   ],
   "source": [
    "data = pd.Series([0, 2.5, 5, 7.5, 10],\n",
    "                 index=['1.', '2.', '3.', '4.', '5.'])\n",
    "\n",
    "print('The whole series:\\n', data)\n",
    "print('\\nThe specified series:', data['3.'])"
   ]
  },
  {
   "cell_type": "markdown",
   "metadata": {},
   "source": [
    "### Series as specialized dictionary"
   ]
  },
  {
   "cell_type": "code",
   "execution_count": 14,
   "metadata": {},
   "outputs": [
    {
     "name": "stdout",
     "output_type": "stream",
     "text": [
      "Top three homerun hitters:\n",
      " Barry Bonds    762\n",
      "Hank Aaron     755\n",
      "Babe Ruth      714\n",
      "dtype: int64\n"
     ]
    }
   ],
   "source": [
    "homeruns_dict = {'Barry Bonds': 762,\n",
    "                'Hank Aaron': 755,\n",
    "                'Babe Ruth': 714,\n",
    "                'Albert Pujols': 703,\n",
    "                'Alex Rodriguez': 696,\n",
    "                'Willie Mays' : 660,\n",
    "                'Ken Griffey Jr.' : 630,\n",
    "                'Jim Thome' : 612,\n",
    "                'Sammy Sosa' : 609,\n",
    "                'Frank Robinson' : 586\n",
    "                }\n",
    "homeruns = pd.Series(homeruns_dict)\n",
    "print('Top three homerun hitters:\\n',homeruns['Barry Bonds': 'Babe Ruth'])"
   ]
  },
  {
   "cell_type": "markdown",
   "metadata": {},
   "source": [
    "### Constructing series objects"
   ]
  },
  {
   "cell_type": "code",
   "execution_count": 9,
   "metadata": {},
   "outputs": [
    {
     "name": "stdout",
     "output_type": "stream",
     "text": [
      "The desired index is:\n",
      " z    300\n",
      "y    200\n",
      "dtype: int64\n"
     ]
    }
   ],
   "source": [
    "P = pd.Series({'x': 100, 'y': 200, 'z': 300}, index=['z', 'y'])\n",
    "print('The desired index is:\\n',P)"
   ]
  },
  {
   "cell_type": "markdown",
   "metadata": {},
   "source": [
    "## The Pandas DataFrame Object"
   ]
  },
  {
   "cell_type": "markdown",
   "metadata": {},
   "source": [
    "### DataFrame as NumPy array"
   ]
  },
  {
   "cell_type": "code",
   "execution_count": 30,
   "metadata": {},
   "outputs": [
    {
     "name": "stdout",
     "output_type": "stream",
     "text": [
      "The best baseball players are:\n"
     ]
    },
    {
     "data": {
      "text/html": [
       "<div>\n",
       "<style scoped>\n",
       "    .dataframe tbody tr th:only-of-type {\n",
       "        vertical-align: middle;\n",
       "    }\n",
       "\n",
       "    .dataframe tbody tr th {\n",
       "        vertical-align: top;\n",
       "    }\n",
       "\n",
       "    .dataframe thead th {\n",
       "        text-align: right;\n",
       "    }\n",
       "</style>\n",
       "<table border=\"1\" class=\"dataframe\">\n",
       "  <thead>\n",
       "    <tr style=\"text-align: right;\">\n",
       "      <th></th>\n",
       "      <th>Homeruns</th>\n",
       "      <th>Hits</th>\n",
       "    </tr>\n",
       "  </thead>\n",
       "  <tbody>\n",
       "    <tr>\n",
       "      <th>Barry Bonds</th>\n",
       "      <td>762</td>\n",
       "      <td>2935</td>\n",
       "    </tr>\n",
       "    <tr>\n",
       "      <th>Hank Aaron</th>\n",
       "      <td>755</td>\n",
       "      <td>3771</td>\n",
       "    </tr>\n",
       "    <tr>\n",
       "      <th>Babe Ruth</th>\n",
       "      <td>714</td>\n",
       "      <td>2873</td>\n",
       "    </tr>\n",
       "    <tr>\n",
       "      <th>Albert Pujols</th>\n",
       "      <td>703</td>\n",
       "      <td>3384</td>\n",
       "    </tr>\n",
       "    <tr>\n",
       "      <th>Alex Rodriguez</th>\n",
       "      <td>696</td>\n",
       "      <td>3115</td>\n",
       "    </tr>\n",
       "    <tr>\n",
       "      <th>Willie Mays</th>\n",
       "      <td>660</td>\n",
       "      <td>3283</td>\n",
       "    </tr>\n",
       "    <tr>\n",
       "      <th>Ken Griffey Jr.</th>\n",
       "      <td>630</td>\n",
       "      <td>2781</td>\n",
       "    </tr>\n",
       "    <tr>\n",
       "      <th>Jim Thome</th>\n",
       "      <td>612</td>\n",
       "      <td>2328</td>\n",
       "    </tr>\n",
       "    <tr>\n",
       "      <th>Sammy Sosa</th>\n",
       "      <td>609</td>\n",
       "      <td>2408</td>\n",
       "    </tr>\n",
       "    <tr>\n",
       "      <th>Frank Robinson</th>\n",
       "      <td>586</td>\n",
       "      <td>2943</td>\n",
       "    </tr>\n",
       "  </tbody>\n",
       "</table>\n",
       "</div>"
      ],
      "text/plain": [
       "                 Homeruns  Hits\n",
       "Barry Bonds           762  2935\n",
       "Hank Aaron            755  3771\n",
       "Babe Ruth             714  2873\n",
       "Albert Pujols         703  3384\n",
       "Alex Rodriguez        696  3115\n",
       "Willie Mays           660  3283\n",
       "Ken Griffey Jr.       630  2781\n",
       "Jim Thome             612  2328\n",
       "Sammy Sosa            609  2408\n",
       "Frank Robinson        586  2943"
      ]
     },
     "execution_count": 30,
     "metadata": {},
     "output_type": "execute_result"
    }
   ],
   "source": [
    "hits_dict = {'Barry Bonds': 2935,\n",
    "                'Hank Aaron': 3771,\n",
    "                'Babe Ruth': 2873,\n",
    "                'Albert Pujols': 3384,\n",
    "                'Alex Rodriguez': 3115,\n",
    "                'Willie Mays' : 3283,\n",
    "                'Ken Griffey Jr.' : 2781,\n",
    "                'Jim Thome' : 2328,\n",
    "                'Sammy Sosa' : 2408,\n",
    "                'Frank Robinson' : 2943\n",
    "                }\n",
    "hits = pd.Series(hits_dict)\n",
    "\n",
    "players = pd.DataFrame({'Homeruns': homeruns,\n",
    "                        'Hits': hits})\n",
    "print('The best baseball players are:')\n",
    "players"
   ]
  },
  {
   "cell_type": "markdown",
   "metadata": {},
   "source": [
    "### Constructing DataFrame objects"
   ]
  },
  {
   "cell_type": "code",
   "execution_count": 48,
   "metadata": {},
   "outputs": [
    {
     "data": {
      "text/html": [
       "<div>\n",
       "<style scoped>\n",
       "    .dataframe tbody tr th:only-of-type {\n",
       "        vertical-align: middle;\n",
       "    }\n",
       "\n",
       "    .dataframe tbody tr th {\n",
       "        vertical-align: top;\n",
       "    }\n",
       "\n",
       "    .dataframe thead th {\n",
       "        text-align: right;\n",
       "    }\n",
       "</style>\n",
       "<table border=\"1\" class=\"dataframe\">\n",
       "  <thead>\n",
       "    <tr style=\"text-align: right;\">\n",
       "      <th></th>\n",
       "      <th>a</th>\n",
       "      <th>b</th>\n",
       "      <th>c</th>\n",
       "    </tr>\n",
       "  </thead>\n",
       "  <tbody>\n",
       "    <tr>\n",
       "      <th>Row 1</th>\n",
       "      <td>3</td>\n",
       "      <td>2</td>\n",
       "      <td>1</td>\n",
       "    </tr>\n",
       "    <tr>\n",
       "      <th>Row 2</th>\n",
       "      <td>4</td>\n",
       "      <td>5</td>\n",
       "      <td>6</td>\n",
       "    </tr>\n",
       "  </tbody>\n",
       "</table>\n",
       "</div>"
      ],
      "text/plain": [
       "       a  b  c\n",
       "Row 1  3  2  1\n",
       "Row 2  4  5  6"
      ]
     },
     "execution_count": 48,
     "metadata": {},
     "output_type": "execute_result"
    }
   ],
   "source": [
    "pd.DataFrame([{'a': 3, 'b': 2, 'c':1}, {'a':4,'b': 5, 'c': 6}],\n",
    "             columns=['a', 'b', 'c'],\n",
    "             index=['Row 1', 'Row 2'])"
   ]
  },
  {
   "cell_type": "markdown",
   "metadata": {},
   "source": [
    "## Pandas index object"
   ]
  },
  {
   "cell_type": "markdown",
   "metadata": {},
   "source": [
    "### Index as immutable array"
   ]
  },
  {
   "cell_type": "code",
   "execution_count": 55,
   "metadata": {},
   "outputs": [
    {
     "name": "stdout",
     "output_type": "stream",
     "text": [
      "The index from the third value on:\n",
      " Index([9.4, 'tacos', 7], dtype='object')\n"
     ]
    }
   ],
   "source": [
    "i = pd.Index([6, 3.0, 9.4, 'tacos', 7])\n",
    "print('The index from the third value on:\\n',i[2:])"
   ]
  },
  {
   "cell_type": "code",
   "execution_count": 57,
   "metadata": {},
   "outputs": [
    {
     "ename": "TypeError",
     "evalue": "Index does not support mutable operations",
     "output_type": "error",
     "traceback": [
      "\u001b[1;31m---------------------------------------------------------------------------\u001b[0m",
      "\u001b[1;31mTypeError\u001b[0m                                 Traceback (most recent call last)",
      "Cell \u001b[1;32mIn[57], line 2\u001b[0m\n\u001b[0;32m      1\u001b[0m \u001b[38;5;66;03m# The array can't be changed\u001b[39;00m\n\u001b[1;32m----> 2\u001b[0m \u001b[43mi\u001b[49m\u001b[43m[\u001b[49m\u001b[38;5;241;43m2\u001b[39;49m\u001b[43m]\u001b[49m \u001b[38;5;241m=\u001b[39m \u001b[38;5;241m99\u001b[39m\n",
      "File \u001b[1;32m~\\AppData\\Roaming\\Python\\Python312\\site-packages\\pandas\\core\\indexes\\base.py:5371\u001b[0m, in \u001b[0;36mIndex.__setitem__\u001b[1;34m(self, key, value)\u001b[0m\n\u001b[0;32m   5369\u001b[0m \u001b[38;5;129m@final\u001b[39m\n\u001b[0;32m   5370\u001b[0m \u001b[38;5;28;01mdef\u001b[39;00m \u001b[38;5;21m__setitem__\u001b[39m(\u001b[38;5;28mself\u001b[39m, key, value) \u001b[38;5;241m-\u001b[39m\u001b[38;5;241m>\u001b[39m \u001b[38;5;28;01mNone\u001b[39;00m:\n\u001b[1;32m-> 5371\u001b[0m     \u001b[38;5;28;01mraise\u001b[39;00m \u001b[38;5;167;01mTypeError\u001b[39;00m(\u001b[38;5;124m\"\u001b[39m\u001b[38;5;124mIndex does not support mutable operations\u001b[39m\u001b[38;5;124m\"\u001b[39m)\n",
      "\u001b[1;31mTypeError\u001b[0m: Index does not support mutable operations"
     ]
    }
   ],
   "source": [
    "# The array can't be changed\n",
    "i[2] = 99"
   ]
  },
  {
   "cell_type": "markdown",
   "metadata": {},
   "source": [
    "### Index as ordered set"
   ]
  },
  {
   "cell_type": "code",
   "execution_count": 67,
   "metadata": {},
   "outputs": [
    {
     "name": "stdout",
     "output_type": "stream",
     "text": [
      "Union of the indexes: Index([1, 2, 3, 4, 5, 6, 7], dtype='int64')\n",
      "Intersection of the indexes: Index([5, 4, 3], dtype='int64')\n",
      "Diffferences of the indexes: Index([1, 2, 6, 7], dtype='int64')\n"
     ]
    }
   ],
   "source": [
    "I1 = pd.Index([7, 5, 4, 3, 6])\n",
    "I2 = pd.Index([1, 5, 4, 3, 2])\n",
    "\n",
    "print('Union of the indexes:',I1.union(I2))\n",
    "print('Intersection of the indexes:',I1.intersection(I2))\n",
    "print('Diffferences of the indexes:',I1.symmetric_difference(I2))"
   ]
  },
  {
   "cell_type": "markdown",
   "metadata": {},
   "source": [
    "# Data Indexing and Selection"
   ]
  },
  {
   "cell_type": "markdown",
   "metadata": {},
   "source": [
    "## Data Selection in series"
   ]
  },
  {
   "cell_type": "markdown",
   "metadata": {},
   "source": [
    "### Series as dictionary"
   ]
  },
  {
   "cell_type": "code",
   "execution_count": 102,
   "metadata": {},
   "outputs": [
    {
     "name": "stdout",
     "output_type": "stream",
     "text": [
      "The best baseball players are:\n",
      "Here are the hits for all the players:\n",
      " Barry Bonds        2935\n",
      "Hank Aaron         3771\n",
      "Babe Ruth          2873\n",
      "Albert Pujols      3384\n",
      "Alex Rodriguez     3115\n",
      "Willie Mays        3283\n",
      "Ken Griffey Jr.    2781\n",
      "Jim Thome          2328\n",
      "Sammy Sosa         2408\n",
      "Frank Robinson     2943\n",
      "Name: Hits, dtype: int64\n"
     ]
    }
   ],
   "source": [
    "players = pd.DataFrame({'Homeruns': homeruns,\n",
    "                        'Hits': hits})\n",
    "print('The best baseball players are:')\n",
    "print('Here are the hits for all the players:\\n',players['Hits'])\n"
   ]
  },
  {
   "cell_type": "markdown",
   "metadata": {},
   "source": [
    "### Series as 1D array"
   ]
  },
  {
   "cell_type": "code",
   "execution_count": 111,
   "metadata": {},
   "outputs": [
    {
     "name": "stdout",
     "output_type": "stream",
     "text": [
      "Players that have 3000 hits and 700 homeruns:\n"
     ]
    },
    {
     "data": {
      "text/html": [
       "<div>\n",
       "<style scoped>\n",
       "    .dataframe tbody tr th:only-of-type {\n",
       "        vertical-align: middle;\n",
       "    }\n",
       "\n",
       "    .dataframe tbody tr th {\n",
       "        vertical-align: top;\n",
       "    }\n",
       "\n",
       "    .dataframe thead th {\n",
       "        text-align: right;\n",
       "    }\n",
       "</style>\n",
       "<table border=\"1\" class=\"dataframe\">\n",
       "  <thead>\n",
       "    <tr style=\"text-align: right;\">\n",
       "      <th></th>\n",
       "      <th>Homeruns</th>\n",
       "      <th>Hits</th>\n",
       "    </tr>\n",
       "  </thead>\n",
       "  <tbody>\n",
       "    <tr>\n",
       "      <th>Barry Bonds</th>\n",
       "      <td>762</td>\n",
       "      <td>2935</td>\n",
       "    </tr>\n",
       "    <tr>\n",
       "      <th>Hank Aaron</th>\n",
       "      <td>755</td>\n",
       "      <td>3771</td>\n",
       "    </tr>\n",
       "    <tr>\n",
       "      <th>Babe Ruth</th>\n",
       "      <td>714</td>\n",
       "      <td>2873</td>\n",
       "    </tr>\n",
       "    <tr>\n",
       "      <th>Albert Pujols</th>\n",
       "      <td>703</td>\n",
       "      <td>3384</td>\n",
       "    </tr>\n",
       "  </tbody>\n",
       "</table>\n",
       "</div>"
      ],
      "text/plain": [
       "               Homeruns  Hits\n",
       "Barry Bonds         762  2935\n",
       "Hank Aaron          755  3771\n",
       "Babe Ruth           714  2873\n",
       "Albert Pujols       703  3384"
      ]
     },
     "execution_count": 111,
     "metadata": {},
     "output_type": "execute_result"
    }
   ],
   "source": [
    "print('Players that have 3000 hits and 700 homeruns:')\n",
    "players[(homeruns > 700) & (hits > 2800)]"
   ]
  },
  {
   "cell_type": "markdown",
   "metadata": {},
   "source": [
    "### Indexers: loc, iloc and ix"
   ]
  },
  {
   "cell_type": "code",
   "execution_count": 140,
   "metadata": {},
   "outputs": [
    {
     "name": "stdout",
     "output_type": "stream",
     "text": [
      "The top three players in baseball:\n",
      " 1    Hank Aaron    \n",
      "2     Albert Pujols\n",
      "3     Barry Bonds  \n",
      "dtype: object\n",
      "Here\n",
      " 1    Hank Aaron    \n",
      "2     Albert Pujols\n",
      "dtype: object\n"
     ]
    }
   ],
   "source": [
    "data = pd.Series(['Hank Aaron    ', 'Albert Pujols', 'Barry Bonds  ']\n",
    "                 , index=[1, 2, 3])\n",
    "print('The top three players in baseball:\\n', data)\n",
    "\n",
    "print('Here\\n',data.iloc[0])"
   ]
  },
  {
   "cell_type": "code",
   "execution_count": 9,
   "metadata": {},
   "outputs": [
    {
     "name": "stdout",
     "output_type": "stream",
     "text": [
      "The best baseball players are:\n"
     ]
    },
    {
     "data": {
      "text/html": [
       "<div>\n",
       "<style scoped>\n",
       "    .dataframe tbody tr th:only-of-type {\n",
       "        vertical-align: middle;\n",
       "    }\n",
       "\n",
       "    .dataframe tbody tr th {\n",
       "        vertical-align: top;\n",
       "    }\n",
       "\n",
       "    .dataframe thead th {\n",
       "        text-align: right;\n",
       "    }\n",
       "</style>\n",
       "<table border=\"1\" class=\"dataframe\">\n",
       "  <thead>\n",
       "    <tr style=\"text-align: right;\">\n",
       "      <th></th>\n",
       "      <th>Barry Bonds</th>\n",
       "      <th>Hank Aaron</th>\n",
       "      <th>Babe Ruth</th>\n",
       "      <th>Albert Pujols</th>\n",
       "      <th>Alex Rodriguez</th>\n",
       "      <th>Willie Mays</th>\n",
       "      <th>Ken Griffey Jr.</th>\n",
       "      <th>Jim Thome</th>\n",
       "      <th>Sammy Sosa</th>\n",
       "      <th>Frank Robinson</th>\n",
       "    </tr>\n",
       "  </thead>\n",
       "  <tbody>\n",
       "    <tr>\n",
       "      <th>Hits</th>\n",
       "      <td>2935.00000</td>\n",
       "      <td>3771.000000</td>\n",
       "      <td>2873.000000</td>\n",
       "      <td>3384.000000</td>\n",
       "      <td>3115.000000</td>\n",
       "      <td>3283.000000</td>\n",
       "      <td>2781.000000</td>\n",
       "      <td>2328.000000</td>\n",
       "      <td>2408.000000</td>\n",
       "      <td>2943.000000</td>\n",
       "    </tr>\n",
       "    <tr>\n",
       "      <th>AB</th>\n",
       "      <td>9847.00000</td>\n",
       "      <td>12364.000000</td>\n",
       "      <td>8399.000000</td>\n",
       "      <td>11421.000000</td>\n",
       "      <td>10566.000000</td>\n",
       "      <td>10881.000000</td>\n",
       "      <td>9801.000000</td>\n",
       "      <td>8422.000000</td>\n",
       "      <td>8813.000000</td>\n",
       "      <td>10006.000000</td>\n",
       "    </tr>\n",
       "    <tr>\n",
       "      <th>BAA</th>\n",
       "      <td>0.29806</td>\n",
       "      <td>0.304998</td>\n",
       "      <td>0.342065</td>\n",
       "      <td>0.296296</td>\n",
       "      <td>0.294814</td>\n",
       "      <td>0.301719</td>\n",
       "      <td>0.283747</td>\n",
       "      <td>0.276419</td>\n",
       "      <td>0.273233</td>\n",
       "      <td>0.294124</td>\n",
       "    </tr>\n",
       "  </tbody>\n",
       "</table>\n",
       "</div>"
      ],
      "text/plain": [
       "      Barry Bonds    Hank Aaron    Babe Ruth  Albert Pujols  Alex Rodriguez  \\\n",
       "Hits   2935.00000   3771.000000  2873.000000    3384.000000     3115.000000   \n",
       "AB     9847.00000  12364.000000  8399.000000   11421.000000    10566.000000   \n",
       "BAA       0.29806      0.304998     0.342065       0.296296        0.294814   \n",
       "\n",
       "       Willie Mays  Ken Griffey Jr.    Jim Thome   Sammy Sosa  Frank Robinson  \n",
       "Hits   3283.000000      2781.000000  2328.000000  2408.000000     2943.000000  \n",
       "AB    10881.000000      9801.000000  8422.000000  8813.000000    10006.000000  \n",
       "BAA       0.301719         0.283747     0.276419     0.273233        0.294124  "
      ]
     },
     "execution_count": 9,
     "metadata": {},
     "output_type": "execute_result"
    }
   ],
   "source": [
    "AB_dict = {'Barry Bonds': 9847, 'Hank Aaron': 12364,\n",
    "                'Babe Ruth': 8399, 'Albert Pujols': 11421,\n",
    "                'Alex Rodriguez': 10566, 'Willie Mays' : 10881,\n",
    "                'Ken Griffey Jr.' : 9801, 'Jim Thome' : 8422,\n",
    "                'Sammy Sosa' : 8813, 'Frank Robinson' : 10006\n",
    "            }\n",
    "AB = pd.Series(AB_dict)\n",
    "\n",
    "hits_dict = {'Barry Bonds': 2935, 'Hank Aaron': 3771,\n",
    "                'Babe Ruth': 2873, 'Albert Pujols': 3384,\n",
    "                'Alex Rodriguez': 3115, 'Willie Mays' : 3283,\n",
    "                'Ken Griffey Jr.' : 2781, 'Jim Thome' : 2328,\n",
    "                'Sammy Sosa' : 2408, 'Frank Robinson' : 2943\n",
    "                }\n",
    "hits = pd.Series(hits_dict)\n",
    "\n",
    "players = pd.DataFrame({'Hits': hits,\n",
    "                        'AB': AB})\n",
    "print('The best baseball players are:')\n",
    "players['BAA'] = players['Hits'] / players['AB']\n",
    "players.T"
   ]
  },
  {
   "cell_type": "markdown",
   "metadata": {},
   "source": [
    "### Additional Indexing conventions"
   ]
  },
  {
   "cell_type": "code",
   "execution_count": 10,
   "metadata": {},
   "outputs": [
    {
     "data": {
      "text/html": [
       "<div>\n",
       "<style scoped>\n",
       "    .dataframe tbody tr th:only-of-type {\n",
       "        vertical-align: middle;\n",
       "    }\n",
       "\n",
       "    .dataframe tbody tr th {\n",
       "        vertical-align: top;\n",
       "    }\n",
       "\n",
       "    .dataframe thead th {\n",
       "        text-align: right;\n",
       "    }\n",
       "</style>\n",
       "<table border=\"1\" class=\"dataframe\">\n",
       "  <thead>\n",
       "    <tr style=\"text-align: right;\">\n",
       "      <th></th>\n",
       "      <th>Hits</th>\n",
       "      <th>AB</th>\n",
       "      <th>BAA</th>\n",
       "    </tr>\n",
       "  </thead>\n",
       "  <tbody>\n",
       "    <tr>\n",
       "      <th>Hank Aaron</th>\n",
       "      <td>3771</td>\n",
       "      <td>12364</td>\n",
       "      <td>0.304998</td>\n",
       "    </tr>\n",
       "    <tr>\n",
       "      <th>Babe Ruth</th>\n",
       "      <td>2873</td>\n",
       "      <td>8399</td>\n",
       "      <td>0.342065</td>\n",
       "    </tr>\n",
       "    <tr>\n",
       "      <th>Willie Mays</th>\n",
       "      <td>3283</td>\n",
       "      <td>10881</td>\n",
       "      <td>0.301719</td>\n",
       "    </tr>\n",
       "  </tbody>\n",
       "</table>\n",
       "</div>"
      ],
      "text/plain": [
       "             Hits     AB       BAA\n",
       "Hank Aaron   3771  12364  0.304998\n",
       "Babe Ruth    2873   8399  0.342065\n",
       "Willie Mays  3283  10881  0.301719"
      ]
     },
     "execution_count": 10,
     "metadata": {},
     "output_type": "execute_result"
    }
   ],
   "source": [
    "players[players.BAA > .300]"
   ]
  },
  {
   "cell_type": "markdown",
   "metadata": {},
   "source": [
    "# Operating on Data in Pandas\n"
   ]
  },
  {
   "cell_type": "markdown",
   "metadata": {},
   "source": [
    "## Ufuncs: Index Preservation"
   ]
  },
  {
   "cell_type": "code",
   "execution_count": 27,
   "metadata": {},
   "outputs": [
    {
     "name": "stdout",
     "output_type": "stream",
     "text": [
      "Here is the e^r 5x5 array:\n"
     ]
    },
    {
     "data": {
      "text/html": [
       "<div>\n",
       "<style scoped>\n",
       "    .dataframe tbody tr th:only-of-type {\n",
       "        vertical-align: middle;\n",
       "    }\n",
       "\n",
       "    .dataframe tbody tr th {\n",
       "        vertical-align: top;\n",
       "    }\n",
       "\n",
       "    .dataframe thead th {\n",
       "        text-align: right;\n",
       "    }\n",
       "</style>\n",
       "<table border=\"1\" class=\"dataframe\">\n",
       "  <thead>\n",
       "    <tr style=\"text-align: right;\">\n",
       "      <th></th>\n",
       "      <th>A</th>\n",
       "      <th>B</th>\n",
       "      <th>C</th>\n",
       "      <th>D</th>\n",
       "      <th>E</th>\n",
       "    </tr>\n",
       "  </thead>\n",
       "  <tbody>\n",
       "    <tr>\n",
       "      <th>0</th>\n",
       "      <td>2.718282e+00</td>\n",
       "      <td>2.008554e+01</td>\n",
       "      <td>2.980958e+03</td>\n",
       "      <td>8103.083928</td>\n",
       "      <td>2.980958e+03</td>\n",
       "    </tr>\n",
       "    <tr>\n",
       "      <th>1</th>\n",
       "      <td>6.565997e+07</td>\n",
       "      <td>5.459815e+01</td>\n",
       "      <td>1.484132e+02</td>\n",
       "      <td>2.718282</td>\n",
       "      <td>2.008554e+01</td>\n",
       "    </tr>\n",
       "    <tr>\n",
       "      <th>2</th>\n",
       "      <td>2.415495e+07</td>\n",
       "      <td>2.718282e+00</td>\n",
       "      <td>8.886111e+06</td>\n",
       "      <td>403.428793</td>\n",
       "      <td>5.987414e+04</td>\n",
       "    </tr>\n",
       "    <tr>\n",
       "      <th>3</th>\n",
       "      <td>7.389056e+00</td>\n",
       "      <td>1.000000e+00</td>\n",
       "      <td>1.627548e+05</td>\n",
       "      <td>2980.957987</td>\n",
       "      <td>2.980958e+03</td>\n",
       "    </tr>\n",
       "    <tr>\n",
       "      <th>4</th>\n",
       "      <td>1.096633e+03</td>\n",
       "      <td>3.269017e+06</td>\n",
       "      <td>3.269017e+06</td>\n",
       "      <td>148.413159</td>\n",
       "      <td>1.202604e+06</td>\n",
       "    </tr>\n",
       "  </tbody>\n",
       "</table>\n",
       "</div>"
      ],
      "text/plain": [
       "              A             B             C            D             E\n",
       "0  2.718282e+00  2.008554e+01  2.980958e+03  8103.083928  2.980958e+03\n",
       "1  6.565997e+07  5.459815e+01  1.484132e+02     2.718282  2.008554e+01\n",
       "2  2.415495e+07  2.718282e+00  8.886111e+06   403.428793  5.987414e+04\n",
       "3  7.389056e+00  1.000000e+00  1.627548e+05  2980.957987  2.980958e+03\n",
       "4  1.096633e+03  3.269017e+06  3.269017e+06   148.413159  1.202604e+06"
      ]
     },
     "execution_count": 27,
     "metadata": {},
     "output_type": "execute_result"
    }
   ],
   "source": [
    "r = np.random.RandomState(99)\n",
    "array = pd.DataFrame(r.randint(0, 20, (5, 5)),\n",
    "        columns=['A', 'B', 'C', 'D', 'E'])\n",
    "print('Here is the e^r 5x5 array:')\n",
    "np.exp(array)"
   ]
  },
  {
   "cell_type": "markdown",
   "metadata": {},
   "source": [
    "### Ufuncs: Index Alignment"
   ]
  },
  {
   "cell_type": "code",
   "execution_count": 37,
   "metadata": {},
   "outputs": [
    {
     "name": "stderr",
     "output_type": "stream",
     "text": [
      "/tmp/ipykernel_9764/4277536936.py:17: FutureWarning: Index.__or__ operating as a set operation is deprecated, in the future this will be a logical operation matching Series.__or__.  Use index.union(other) instead.\n",
      "  homeruns.index | hits.index\n"
     ]
    },
    {
     "data": {
      "text/plain": [
       "Index(['Albert Pujols', 'Alex Rodriguez', 'Babe Ruth', 'Barry Bonds',\n",
       "       'Derek Jeter', 'Frank Robinson', 'Hank Aaron', 'Honus Wagner',\n",
       "       'Jim Thome', 'Ken Griffey Jr.', 'Paul Molitor', 'Pete Rose',\n",
       "       'Sammy Sosa', 'Stan Musial', 'Tris Speaker', 'Ty Cobb', 'Willie Mays'],\n",
       "      dtype='object')"
      ]
     },
     "execution_count": 37,
     "metadata": {},
     "output_type": "execute_result"
    }
   ],
   "source": [
    "homeruns_dict = {'Barry Bonds': 762, 'Hank Aaron': 755,\n",
    "                'Babe Ruth': 714, 'Albert Pujols': 703,\n",
    "                'Alex Rodriguez': 696, 'Willie Mays' : 660,\n",
    "                'Ken Griffey Jr.' : 630, 'Jim Thome' : 612,\n",
    "                'Sammy Sosa' : 609, 'Frank Robinson' : 586\n",
    "                }\n",
    "homeruns = pd.Series(homeruns_dict)\n",
    "\n",
    "hits_dict = {'Pete Rose': 4256, 'Hank Aaron': 3771,\n",
    "                'Ty Cobb': 4189, 'Albert Pujols': 3384,\n",
    "                'Stan Musial': 3630, 'Tris Speaker' : 3514,\n",
    "                'Honus Wagner' : 3430, 'Derek Jeter' : 3465,\n",
    "                'Willie Mays' : 3283, 'Paul Molitor' : 3319\n",
    "                }\n",
    "hits = pd.Series(hits_dict)\n",
    "\n",
    "homeruns.index | hits.index"
   ]
  },
  {
   "cell_type": "code",
   "execution_count": 41,
   "metadata": {},
   "outputs": [
    {
     "name": "stdout",
     "output_type": "stream",
     "text": [
      "The rate of hits before a homerun:\n",
      " Barry Bonds        3.851706\n",
      "Hank Aaron         4.994702\n",
      "Babe Ruth          4.023810\n",
      "Albert Pujols      4.813656\n",
      "Alex Rodriguez     4.475575\n",
      "Willie Mays        4.974242\n",
      "Ken Griffey Jr.    4.414286\n",
      "Jim Thome          3.803922\n",
      "Sammy Sosa         3.954023\n",
      "Frank Robinson     5.022184\n",
      "dtype: float64\n"
     ]
    }
   ],
   "source": [
    "hits_dict = {'Barry Bonds': 2935, 'Hank Aaron': 3771,\n",
    "                'Babe Ruth': 2873, 'Albert Pujols': 3384,\n",
    "                'Alex Rodriguez': 3115, 'Willie Mays' : 3283,\n",
    "                'Ken Griffey Jr.' : 2781, 'Jim Thome' : 2328,\n",
    "                'Sammy Sosa' : 2408, 'Frank Robinson' : 2943\n",
    "                }\n",
    "hits = pd.Series(hits_dict)\n",
    "\n",
    "print('The rate of hits before a homerun:\\n',hits / homeruns)"
   ]
  },
  {
   "cell_type": "code",
   "execution_count": 43,
   "metadata": {},
   "outputs": [
    {
     "name": "stdout",
     "output_type": "stream",
     "text": [
      "How many hits were not homeruns:\n",
      " Barry Bonds        2173\n",
      "Hank Aaron         3016\n",
      "Babe Ruth          2159\n",
      "Albert Pujols      2681\n",
      "Alex Rodriguez     2419\n",
      "Willie Mays        2623\n",
      "Ken Griffey Jr.    2151\n",
      "Jim Thome          1716\n",
      "Sammy Sosa         1799\n",
      "Frank Robinson     2357\n",
      "dtype: int64\n"
     ]
    }
   ],
   "source": [
    "print('How many hits were not homeruns:\\n',hits.subtract(homeruns, fill_value=0))"
   ]
  },
  {
   "cell_type": "markdown",
   "metadata": {},
   "source": [
    "## Ufuncs: Operations Between DataFrame and Series"
   ]
  },
  {
   "cell_type": "code",
   "execution_count": 53,
   "metadata": {},
   "outputs": [
    {
     "name": "stdout",
     "output_type": "stream",
     "text": [
      "The orignal 5x5 array:\n",
      " [[ 6  7  6  1  8]\n",
      " [ 8  4  2  2  6]\n",
      " [ 1 16  6  0 12]\n",
      " [ 1  3  5  9  1]\n",
      " [17  8 13 10 12]]\n",
      "The 5x5 array minus first value:\n",
      " [[ 0  1  0 -5  2]\n",
      " [ 2 -2 -4 -4  0]\n",
      " [-5 10  0 -6  6]\n",
      " [-5 -3 -1  3 -5]\n",
      " [11  2  7  4  6]]\n"
     ]
    }
   ],
   "source": [
    "N = r.randint(20, size=(5, 5))\n",
    "print('The orignal 5x5 array:\\n', N)\n",
    "print('The 5x5 array minus first value:\\n', N - N[0,0])"
   ]
  }
 ],
 "metadata": {
  "kernelspec": {
   "display_name": "Python 3",
   "language": "python",
   "name": "python3"
  },
  "language_info": {
   "codemirror_mode": {
    "name": "ipython",
    "version": 3
   },
   "file_extension": ".py",
   "mimetype": "text/x-python",
   "name": "python",
   "nbconvert_exporter": "python",
   "pygments_lexer": "ipython3",
   "version": "3.11.2"
  }
 },
 "nbformat": 4,
 "nbformat_minor": 2
}
