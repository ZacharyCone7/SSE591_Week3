{
 "cells": [
  {
   "cell_type": "markdown",
   "metadata": {},
   "source": [
    "# Installing and Using Pandas"
   ]
  },
  {
   "cell_type": "code",
   "execution_count": 2,
   "metadata": {},
   "outputs": [
    {
     "name": "stdout",
     "output_type": "stream",
     "text": [
      "Pandas version: 2.2.2\n",
      "NumPy version: 1.26.4\n"
     ]
    }
   ],
   "source": [
    "import pandas as pd\n",
    "import numpy as np\n",
    "print('Pandas version:',pd.__version__ )\n",
    "print('NumPy version:',np.__version__ )"
   ]
  },
  {
   "cell_type": "markdown",
   "metadata": {},
   "source": [
    "# Introducing Panda Objects"
   ]
  },
  {
   "cell_type": "markdown",
   "metadata": {},
   "source": [
    "## Pandas Series Objects"
   ]
  },
  {
   "cell_type": "code",
   "execution_count": 13,
   "metadata": {},
   "outputs": [
    {
     "name": "stdout",
     "output_type": "stream",
     "text": [
      "0      2.5\n",
      "1     3.14\n",
      "2    Tacos\n",
      "3        7\n",
      "dtype: object\n"
     ]
    }
   ],
   "source": [
    "data = pd.Series([2.5, 3.14, 'Tacos', 7])\n",
    "\n",
    "print(data)"
   ]
  },
  {
   "cell_type": "markdown",
   "metadata": {},
   "source": [
    "### Series as NumPy array"
   ]
  },
  {
   "cell_type": "code",
   "execution_count": 37,
   "metadata": {},
   "outputs": [
    {
     "name": "stdout",
     "output_type": "stream",
     "text": [
      "The whole series:\n",
      " 1.     0.0\n",
      "2.     2.5\n",
      "3.     5.0\n",
      "4.     7.5\n",
      "5.    10.0\n",
      "dtype: float64\n",
      "\n",
      "The specified series: 5.0\n"
     ]
    }
   ],
   "source": [
    "data = pd.Series([0, 2.5, 5, 7.5, 10],\n",
    "                 index=['1.', '2.', '3.', '4.', '5.'])\n",
    "\n",
    "print('The whole series:\\n', data)\n",
    "print('\\nThe specified series:', data['3.'])"
   ]
  },
  {
   "cell_type": "markdown",
   "metadata": {},
   "source": [
    "### Series as specialized dictionary"
   ]
  },
  {
   "cell_type": "code",
   "execution_count": 18,
   "metadata": {},
   "outputs": [
    {
     "name": "stdout",
     "output_type": "stream",
     "text": [
      "Top three homerun hitters:\n",
      " Barry Bonds    762\n",
      "Hank Aaron     755\n",
      "Babe Ruth      714\n",
      "dtype: int64\n"
     ]
    }
   ],
   "source": [
    "homeruns_dict = {'Barry Bonds': 762,\n",
    "                'Hank Aaron': 755,\n",
    "                'Babe Ruth': 714,\n",
    "                'Albert Pujols': 703,\n",
    "                'Alex Rodriguez': 696,\n",
    "                'Willie Mays' : 660,\n",
    "                'Ken Griffey Jr.' : 630,\n",
    "                'Jim Thome' : 612,\n",
    "                'Sammy Sosa' : 609,\n",
    "                'Frank Robinson' : 586\n",
    "                }\n",
    "homeruns = pd.Series(homeruns_dict)\n",
    "print('Top three homerun hitters:\\n',homeruns['Barry Bonds': 'Babe Ruth'])"
   ]
  },
  {
   "cell_type": "markdown",
   "metadata": {},
   "source": [
    "### Constructing series objects"
   ]
  },
  {
   "cell_type": "code",
   "execution_count": 9,
   "metadata": {},
   "outputs": [
    {
     "name": "stdout",
     "output_type": "stream",
     "text": [
      "The desired index is:\n",
      " z    300\n",
      "y    200\n",
      "dtype: int64\n"
     ]
    }
   ],
   "source": [
    "P = pd.Series({'x': 100, 'y': 200, 'z': 300}, index=['z', 'y'])\n",
    "print('The desired index is:\\n',P)"
   ]
  },
  {
   "cell_type": "markdown",
   "metadata": {},
   "source": [
    "## The Pandas DataFrame Object"
   ]
  },
  {
   "cell_type": "markdown",
   "metadata": {},
   "source": [
    "### DataFrame as NumPy array"
   ]
  },
  {
   "cell_type": "code",
   "execution_count": 30,
   "metadata": {},
   "outputs": [
    {
     "name": "stdout",
     "output_type": "stream",
     "text": [
      "The best baseball players are:\n"
     ]
    },
    {
     "data": {
      "text/html": [
       "<div>\n",
       "<style scoped>\n",
       "    .dataframe tbody tr th:only-of-type {\n",
       "        vertical-align: middle;\n",
       "    }\n",
       "\n",
       "    .dataframe tbody tr th {\n",
       "        vertical-align: top;\n",
       "    }\n",
       "\n",
       "    .dataframe thead th {\n",
       "        text-align: right;\n",
       "    }\n",
       "</style>\n",
       "<table border=\"1\" class=\"dataframe\">\n",
       "  <thead>\n",
       "    <tr style=\"text-align: right;\">\n",
       "      <th></th>\n",
       "      <th>Homeruns</th>\n",
       "      <th>Hits</th>\n",
       "    </tr>\n",
       "  </thead>\n",
       "  <tbody>\n",
       "    <tr>\n",
       "      <th>Barry Bonds</th>\n",
       "      <td>762</td>\n",
       "      <td>2935</td>\n",
       "    </tr>\n",
       "    <tr>\n",
       "      <th>Hank Aaron</th>\n",
       "      <td>755</td>\n",
       "      <td>3771</td>\n",
       "    </tr>\n",
       "    <tr>\n",
       "      <th>Babe Ruth</th>\n",
       "      <td>714</td>\n",
       "      <td>2873</td>\n",
       "    </tr>\n",
       "    <tr>\n",
       "      <th>Albert Pujols</th>\n",
       "      <td>703</td>\n",
       "      <td>3384</td>\n",
       "    </tr>\n",
       "    <tr>\n",
       "      <th>Alex Rodriguez</th>\n",
       "      <td>696</td>\n",
       "      <td>3115</td>\n",
       "    </tr>\n",
       "    <tr>\n",
       "      <th>Willie Mays</th>\n",
       "      <td>660</td>\n",
       "      <td>3283</td>\n",
       "    </tr>\n",
       "    <tr>\n",
       "      <th>Ken Griffey Jr.</th>\n",
       "      <td>630</td>\n",
       "      <td>2781</td>\n",
       "    </tr>\n",
       "    <tr>\n",
       "      <th>Jim Thome</th>\n",
       "      <td>612</td>\n",
       "      <td>2328</td>\n",
       "    </tr>\n",
       "    <tr>\n",
       "      <th>Sammy Sosa</th>\n",
       "      <td>609</td>\n",
       "      <td>2408</td>\n",
       "    </tr>\n",
       "    <tr>\n",
       "      <th>Frank Robinson</th>\n",
       "      <td>586</td>\n",
       "      <td>2943</td>\n",
       "    </tr>\n",
       "  </tbody>\n",
       "</table>\n",
       "</div>"
      ],
      "text/plain": [
       "                 Homeruns  Hits\n",
       "Barry Bonds           762  2935\n",
       "Hank Aaron            755  3771\n",
       "Babe Ruth             714  2873\n",
       "Albert Pujols         703  3384\n",
       "Alex Rodriguez        696  3115\n",
       "Willie Mays           660  3283\n",
       "Ken Griffey Jr.       630  2781\n",
       "Jim Thome             612  2328\n",
       "Sammy Sosa            609  2408\n",
       "Frank Robinson        586  2943"
      ]
     },
     "execution_count": 30,
     "metadata": {},
     "output_type": "execute_result"
    }
   ],
   "source": [
    "hits_dict = {'Barry Bonds': 2935,\n",
    "                'Hank Aaron': 3771,\n",
    "                'Babe Ruth': 2873,\n",
    "                'Albert Pujols': 3384,\n",
    "                'Alex Rodriguez': 3115,\n",
    "                'Willie Mays' : 3283,\n",
    "                'Ken Griffey Jr.' : 2781,\n",
    "                'Jim Thome' : 2328,\n",
    "                'Sammy Sosa' : 2408,\n",
    "                'Frank Robinson' : 2943\n",
    "                }\n",
    "hits = pd.Series(hits_dict)\n",
    "\n",
    "players = pd.DataFrame({'Homeruns': homeruns,\n",
    "                        'Hits': hits})\n",
    "print('The best baseball players are:')\n",
    "players"
   ]
  },
  {
   "cell_type": "markdown",
   "metadata": {},
   "source": [
    "### Constructing DataFrame objects"
   ]
  },
  {
   "cell_type": "code",
   "execution_count": 48,
   "metadata": {},
   "outputs": [
    {
     "data": {
      "text/html": [
       "<div>\n",
       "<style scoped>\n",
       "    .dataframe tbody tr th:only-of-type {\n",
       "        vertical-align: middle;\n",
       "    }\n",
       "\n",
       "    .dataframe tbody tr th {\n",
       "        vertical-align: top;\n",
       "    }\n",
       "\n",
       "    .dataframe thead th {\n",
       "        text-align: right;\n",
       "    }\n",
       "</style>\n",
       "<table border=\"1\" class=\"dataframe\">\n",
       "  <thead>\n",
       "    <tr style=\"text-align: right;\">\n",
       "      <th></th>\n",
       "      <th>a</th>\n",
       "      <th>b</th>\n",
       "      <th>c</th>\n",
       "    </tr>\n",
       "  </thead>\n",
       "  <tbody>\n",
       "    <tr>\n",
       "      <th>Row 1</th>\n",
       "      <td>3</td>\n",
       "      <td>2</td>\n",
       "      <td>1</td>\n",
       "    </tr>\n",
       "    <tr>\n",
       "      <th>Row 2</th>\n",
       "      <td>4</td>\n",
       "      <td>5</td>\n",
       "      <td>6</td>\n",
       "    </tr>\n",
       "  </tbody>\n",
       "</table>\n",
       "</div>"
      ],
      "text/plain": [
       "       a  b  c\n",
       "Row 1  3  2  1\n",
       "Row 2  4  5  6"
      ]
     },
     "execution_count": 48,
     "metadata": {},
     "output_type": "execute_result"
    }
   ],
   "source": [
    "pd.DataFrame([{'a': 3, 'b': 2, 'c':1}, {'a':4,'b': 5, 'c': 6}],\n",
    "             columns=['a', 'b', 'c'],\n",
    "             index=['Row 1', 'Row 2'])"
   ]
  },
  {
   "cell_type": "markdown",
   "metadata": {},
   "source": [
    "## Pandas index object"
   ]
  },
  {
   "cell_type": "markdown",
   "metadata": {},
   "source": [
    "### Index as immutable array"
   ]
  },
  {
   "cell_type": "code",
   "execution_count": 55,
   "metadata": {},
   "outputs": [
    {
     "name": "stdout",
     "output_type": "stream",
     "text": [
      "The index from the third value on:\n",
      " Index([9.4, 'tacos', 7], dtype='object')\n"
     ]
    }
   ],
   "source": [
    "i = pd.Index([6, 3.0, 9.4, 'tacos', 7])\n",
    "print('The index from the third value on:\\n',i[2:])"
   ]
  },
  {
   "cell_type": "code",
   "execution_count": 57,
   "metadata": {},
   "outputs": [
    {
     "ename": "TypeError",
     "evalue": "Index does not support mutable operations",
     "output_type": "error",
     "traceback": [
      "\u001b[1;31m---------------------------------------------------------------------------\u001b[0m",
      "\u001b[1;31mTypeError\u001b[0m                                 Traceback (most recent call last)",
      "Cell \u001b[1;32mIn[57], line 2\u001b[0m\n\u001b[0;32m      1\u001b[0m \u001b[38;5;66;03m# The array can't be changed\u001b[39;00m\n\u001b[1;32m----> 2\u001b[0m \u001b[43mi\u001b[49m\u001b[43m[\u001b[49m\u001b[38;5;241;43m2\u001b[39;49m\u001b[43m]\u001b[49m \u001b[38;5;241m=\u001b[39m \u001b[38;5;241m99\u001b[39m\n",
      "File \u001b[1;32m~\\AppData\\Roaming\\Python\\Python312\\site-packages\\pandas\\core\\indexes\\base.py:5371\u001b[0m, in \u001b[0;36mIndex.__setitem__\u001b[1;34m(self, key, value)\u001b[0m\n\u001b[0;32m   5369\u001b[0m \u001b[38;5;129m@final\u001b[39m\n\u001b[0;32m   5370\u001b[0m \u001b[38;5;28;01mdef\u001b[39;00m \u001b[38;5;21m__setitem__\u001b[39m(\u001b[38;5;28mself\u001b[39m, key, value) \u001b[38;5;241m-\u001b[39m\u001b[38;5;241m>\u001b[39m \u001b[38;5;28;01mNone\u001b[39;00m:\n\u001b[1;32m-> 5371\u001b[0m     \u001b[38;5;28;01mraise\u001b[39;00m \u001b[38;5;167;01mTypeError\u001b[39;00m(\u001b[38;5;124m\"\u001b[39m\u001b[38;5;124mIndex does not support mutable operations\u001b[39m\u001b[38;5;124m\"\u001b[39m)\n",
      "\u001b[1;31mTypeError\u001b[0m: Index does not support mutable operations"
     ]
    }
   ],
   "source": [
    "# The array can't be changed\n",
    "i[2] = 99"
   ]
  },
  {
   "cell_type": "markdown",
   "metadata": {},
   "source": [
    "### Index as ordered set"
   ]
  },
  {
   "cell_type": "code",
   "execution_count": 67,
   "metadata": {},
   "outputs": [
    {
     "name": "stdout",
     "output_type": "stream",
     "text": [
      "Union of the indexes: Index([1, 2, 3, 4, 5, 6, 7], dtype='int64')\n",
      "Intersection of the indexes: Index([5, 4, 3], dtype='int64')\n",
      "Diffferences of the indexes: Index([1, 2, 6, 7], dtype='int64')\n"
     ]
    }
   ],
   "source": [
    "I1 = pd.Index([7, 5, 4, 3, 6])\n",
    "I2 = pd.Index([1, 5, 4, 3, 2])\n",
    "\n",
    "print('Union of the indexes:',I1.union(I2))\n",
    "print('Intersection of the indexes:',I1.intersection(I2))\n",
    "print('Diffferences of the indexes:',I1.symmetric_difference(I2))"
   ]
  },
  {
   "cell_type": "markdown",
   "metadata": {},
   "source": [
    "# Data Indexing and Selection"
   ]
  },
  {
   "cell_type": "markdown",
   "metadata": {},
   "source": [
    "## Data Selection in series"
   ]
  },
  {
   "cell_type": "markdown",
   "metadata": {},
   "source": [
    "### Series as dictionary"
   ]
  },
  {
   "cell_type": "code",
   "execution_count": 102,
   "metadata": {},
   "outputs": [
    {
     "name": "stdout",
     "output_type": "stream",
     "text": [
      "The best baseball players are:\n",
      "Here are the hits for all the players:\n",
      " Barry Bonds        2935\n",
      "Hank Aaron         3771\n",
      "Babe Ruth          2873\n",
      "Albert Pujols      3384\n",
      "Alex Rodriguez     3115\n",
      "Willie Mays        3283\n",
      "Ken Griffey Jr.    2781\n",
      "Jim Thome          2328\n",
      "Sammy Sosa         2408\n",
      "Frank Robinson     2943\n",
      "Name: Hits, dtype: int64\n"
     ]
    }
   ],
   "source": [
    "players = pd.DataFrame({'Homeruns': homeruns,\n",
    "                        'Hits': hits})\n",
    "print('The best baseball players are:')\n",
    "print('Here are the hits for all the players:\\n',players['Hits'])\n"
   ]
  },
  {
   "cell_type": "markdown",
   "metadata": {},
   "source": [
    "### Series as 1D array"
   ]
  },
  {
   "cell_type": "code",
   "execution_count": 111,
   "metadata": {},
   "outputs": [
    {
     "name": "stdout",
     "output_type": "stream",
     "text": [
      "Players that have 3000 hits and 700 homeruns:\n"
     ]
    },
    {
     "data": {
      "text/html": [
       "<div>\n",
       "<style scoped>\n",
       "    .dataframe tbody tr th:only-of-type {\n",
       "        vertical-align: middle;\n",
       "    }\n",
       "\n",
       "    .dataframe tbody tr th {\n",
       "        vertical-align: top;\n",
       "    }\n",
       "\n",
       "    .dataframe thead th {\n",
       "        text-align: right;\n",
       "    }\n",
       "</style>\n",
       "<table border=\"1\" class=\"dataframe\">\n",
       "  <thead>\n",
       "    <tr style=\"text-align: right;\">\n",
       "      <th></th>\n",
       "      <th>Homeruns</th>\n",
       "      <th>Hits</th>\n",
       "    </tr>\n",
       "  </thead>\n",
       "  <tbody>\n",
       "    <tr>\n",
       "      <th>Barry Bonds</th>\n",
       "      <td>762</td>\n",
       "      <td>2935</td>\n",
       "    </tr>\n",
       "    <tr>\n",
       "      <th>Hank Aaron</th>\n",
       "      <td>755</td>\n",
       "      <td>3771</td>\n",
       "    </tr>\n",
       "    <tr>\n",
       "      <th>Babe Ruth</th>\n",
       "      <td>714</td>\n",
       "      <td>2873</td>\n",
       "    </tr>\n",
       "    <tr>\n",
       "      <th>Albert Pujols</th>\n",
       "      <td>703</td>\n",
       "      <td>3384</td>\n",
       "    </tr>\n",
       "  </tbody>\n",
       "</table>\n",
       "</div>"
      ],
      "text/plain": [
       "               Homeruns  Hits\n",
       "Barry Bonds         762  2935\n",
       "Hank Aaron          755  3771\n",
       "Babe Ruth           714  2873\n",
       "Albert Pujols       703  3384"
      ]
     },
     "execution_count": 111,
     "metadata": {},
     "output_type": "execute_result"
    }
   ],
   "source": [
    "print('Players that have 3000 hits and 700 homeruns:')\n",
    "players[(homeruns > 700) & (hits > 2800)]"
   ]
  },
  {
   "cell_type": "markdown",
   "metadata": {},
   "source": [
    "### Indexers: loc, iloc and ix"
   ]
  },
  {
   "cell_type": "code",
   "execution_count": 140,
   "metadata": {},
   "outputs": [
    {
     "name": "stdout",
     "output_type": "stream",
     "text": [
      "The top three players in baseball:\n",
      " 1    Hank Aaron    \n",
      "2     Albert Pujols\n",
      "3     Barry Bonds  \n",
      "dtype: object\n",
      "Here\n",
      " 1    Hank Aaron    \n",
      "2     Albert Pujols\n",
      "dtype: object\n"
     ]
    }
   ],
   "source": [
    "data = pd.Series(['Hank Aaron    ', 'Albert Pujols', 'Barry Bonds  ']\n",
    "                 , index=[1, 2, 3])\n",
    "print('The top three players in baseball:\\n', data)\n",
    "\n",
    "print('Here\\n',data.iloc[0])"
   ]
  }
 ],
 "metadata": {
  "kernelspec": {
   "display_name": "Python 3",
   "language": "python",
   "name": "python3"
  },
  "language_info": {
   "codemirror_mode": {
    "name": "ipython",
    "version": 3
   },
   "file_extension": ".py",
   "mimetype": "text/x-python",
   "name": "python",
   "nbconvert_exporter": "python",
   "pygments_lexer": "ipython3",
   "version": "3.12.2"
  }
 },
 "nbformat": 4,
 "nbformat_minor": 2
}
