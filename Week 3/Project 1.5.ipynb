{
 "cells": [
  {
   "cell_type": "code",
   "execution_count": 2,
   "metadata": {},
   "outputs": [],
   "source": [
    "import pandas as pd\n",
    "import os\n",
    "\n",
    "# Loading CSV files\n",
    "HA_df = pd.read_csv(r\"C:\\Users\\Zachary.Cone.SERN\\Desktop\\SSE 591-Intro to Python & Data Science\\Week 3\\SSE591_Week3\\Week 3\\Baseball Statistics\\Hank Aaron Stats.csv\")\n",
    "BB_df = pd.read_csv(r\"C:\\Users\\Zachary.Cone.SERN\\Desktop\\SSE 591-Intro to Python & Data Science\\Week 3\\SSE591_Week3\\Week 3\\Baseball Statistics\\Barry Bonds Stats.csv\")\n",
    "TC_df = pd.read_csv(r\"C:\\Users\\Zachary.Cone.SERN\\Desktop\\SSE 591-Intro to Python & Data Science\\Week 3\\SSE591_Week3\\Week 3\\Baseball Statistics\\Ty Cobb Stats.csv\")\n",
    "WM_df = pd.read_csv(r\"C:\\Users\\Zachary.Cone.SERN\\Desktop\\SSE 591-Intro to Python & Data Science\\Week 3\\SSE591_Week3\\Week 3\\Baseball Statistics\\Willie Mays Stats.csv\")\n",
    "SM_df = pd.read_csv(r\"C:\\Users\\Zachary.Cone.SERN\\Desktop\\SSE 591-Intro to Python & Data Science\\Week 3\\SSE591_Week3\\Week 3\\Baseball Statistics\\Stan Musial Stats.csv\")\n",
    "AP_df = pd.read_csv(r\"C:\\Users\\Zachary.Cone.SERN\\Desktop\\SSE 591-Intro to Python & Data Science\\Week 3\\SSE591_Week3\\Week 3\\Baseball Statistics\\Albert Pujols Stats.csv\")\n",
    "PR_df = pd.read_csv(r\"C:\\Users\\Zachary.Cone.SERN\\Desktop\\SSE 591-Intro to Python & Data Science\\Week 3\\SSE591_Week3\\Week 3\\Baseball Statistics\\Pete Rose Stats.csv\")\n",
    "BR_df = pd.read_csv(r\"C:\\Users\\Zachary.Cone.SERN\\Desktop\\SSE 591-Intro to Python & Data Science\\Week 3\\SSE591_Week3\\Week 3\\Baseball Statistics\\Babe Ruth Stats.csv\")\n",
    "HW_df = pd.read_csv(r\"C:\\Users\\Zachary.Cone.SERN\\Desktop\\SSE 591-Intro to Python & Data Science\\Week 3\\SSE591_Week3\\Week 3\\Baseball Statistics\\Honus Wagner Stats.csv\")\n",
    "TW_df = pd.read_csv(r\"C:\\Users\\Zachary.Cone.SERN\\Desktop\\SSE 591-Intro to Python & Data Science\\Week 3\\SSE591_Week3\\Week 3\\Baseball Statistics\\Ted Williams Stats.csv\")\n",
    "\n",
    "# list of initials for looping and naming\n",
    "Names = [\"Hank Aaron\", \"Barry Bonds\", \"Ty Cobb\", \"Willie Mays\", \"Stan Musial\",\n",
    "        \"Albert Pujols\", \"Pete Rose\", \"Babe Ruth\", \"Honus Wagner\", \"Ted Williams\"]\n",
    "\n",
    "# list of player dataframes for looping\n",
    "Player_DF_List = [HA_df, BB_df, TC_df, WM_df, SM_df, AP_df, PR_df, BR_df, HW_df, TW_df]\n",
    "\n",
    "# Initialize an empty DataFrame\n",
    "merged_df = pd.DataFrame()\n"
   ]
  },
  {
   "cell_type": "code",
   "execution_count": null,
   "metadata": {},
   "outputs": [],
   "source": [
    "import pandas as pd\n",
    "import os\n",
    "\n",
    "# CSV files to pull desired data\n",
    "files = {\n",
    "    \"HA\": \"Hank Aaron Stats.csv\",\n",
    "    \"BB\": \"Barry Bonds Stats.csv\",\n",
    "    \"TC\": \"Ty Cobb Stats.csv\",\n",
    "    \"WM\": \"Willie Mays Stats.csv\",\n",
    "    \"SM\": \"Stan Musial Stats.csv\",\n",
    "    \"AP\": \"Albert Pujols Stats.csv\",\n",
    "    \"PR\": \"Pete Rose Stats.csv\",\n",
    "    \"BR\": \"Babe Ruth Stats.csv\",\n",
    "    \"HW\": \"Honus Wagner Stats.csv\",\n",
    "    \"TW\": \"Ted Williams Stats.csv\"\n",
    "}\n",
    "\"\"\"\n",
    "# Base directory path\n",
    "#base_dir = r\"C:\\Users\\zscon\\Desktop\\SSE_591\\repo\\SSE591_Week3\\Week 3\\Baseball Statistics\"\n",
    "base_dir = r\"C:\\Users\\Zachary.Cone.SERN\\Desktop\\SSE 591-Intro to Python & Data Science\\Week 3\\SSE591_Week3\\Week 3\\Baseball Statistics\"\n",
    "\n",
    "# List to store all the player DataFrames\n",
    "player_dataframes = {}\n",
    "all_player_dfs = []\n",
    "\n",
    "# Load data for each player into a pandas DataFrame\n",
    "for player, file_name in files.items():\n",
    "    file_path = os.path.join(base_dir, file_name)\n",
    "    player_df = pd.read_csv(file_path)\n",
    "    # Drop rows with any missing values (empty cells)\n",
    "    player_dataframes[player] = player_df.dropna()\n",
    "\n",
    "# Accessing Ted Williams' information\n",
    "print('Willie Mays stats without military status:\\n',player_dataframes[\"WM\"])\n",
    "print('\\nStan Musial stats without military status:\\n',player_dataframes[\"SM\"])\n",
    "print('\\nTed Williams stats without military status:\\n',player_dataframes[\"TW\"]) \"\"\""
   ]
  },
  {
   "cell_type": "code",
   "execution_count": null,
   "metadata": {},
   "outputs": [],
   "source": [
    "print(HA_df.mean())\n",
    "player_info.loc[:, \"AB\":\"RBI\"]"
   ]
  },
  {
   "cell_type": "code",
   "execution_count": null,
   "metadata": {},
   "outputs": [],
   "source": [
    "# initialize an empty list\n",
    "all_player_dfs = []\n",
    "\n",
    "i = 0\n",
    "# Load data for each player into a pandas DataFrame\n",
    "for player_df in Player_DF_List:\n",
    "    # Removing \n",
    "    player_info = player_df.dropna()\n",
    "    # Selecting columns \"AB\" to \"RBI\"\n",
    "    selected_df = player_info.loc[:, \"AB\":\"RBI\"]\n",
    "    # Summing the selected columns\n",
    "    sum_result = selected_df.sum()\n",
    "    # Transpose the DataFrame\n",
    "    transposed_df = sum_result.to_frame().transpose()\n",
    "    # Set the headers as the items in .loc slice\n",
    "    transposed_df.columns = selected_df.columns\n",
    "    # Replace the zero index with the player's name\n",
    "    transposed_df.rename(index={0: Names[i]}, inplace=True)\n",
    "    # Append the transposed DataFrame to the list\n",
    "    all_player_dfs.append(transposed_df)\n",
    "    i += 1\n",
    "    \n",
    "# Concatenate all the player DataFrames into one DataFrame\n",
    "merged_df = pd.concat(all_player_dfs)\n",
    "merged_df = merged_df.sort_values(by=\"H\", ascending=False)\n",
    "print(merged_df)"
   ]
  },
  {
   "cell_type": "code",
   "execution_count": 3,
   "metadata": {},
   "outputs": [
    {
     "ename": "NameError",
     "evalue": "name 'player' is not defined",
     "output_type": "error",
     "traceback": [
      "\u001b[1;31m---------------------------------------------------------------------------\u001b[0m",
      "\u001b[1;31mNameError\u001b[0m                                 Traceback (most recent call last)",
      "Cell \u001b[1;32mIn[3], line 14\u001b[0m\n\u001b[0;32m     12\u001b[0m transposed_df\u001b[38;5;241m.\u001b[39mcolumns \u001b[38;5;241m=\u001b[39m selected_df\u001b[38;5;241m.\u001b[39mcolumns\n\u001b[0;32m     13\u001b[0m \u001b[38;5;66;03m# Replace the zero index with the player's name\u001b[39;00m\n\u001b[1;32m---> 14\u001b[0m transposed_df\u001b[38;5;241m.\u001b[39mrename(index\u001b[38;5;241m=\u001b[39m{\u001b[38;5;241m0\u001b[39m: \u001b[43mplayer\u001b[49m}, inplace\u001b[38;5;241m=\u001b[39m\u001b[38;5;28;01mTrue\u001b[39;00m)\n\u001b[0;32m     15\u001b[0m \u001b[38;5;66;03m# Append the transposed DataFrame to the list\u001b[39;00m\n\u001b[0;32m     16\u001b[0m all_player_dfs\u001b[38;5;241m.\u001b[39mappend(transposed_df)\n",
      "\u001b[1;31mNameError\u001b[0m: name 'player' is not defined"
     ]
    }
   ],
   "source": [
    "# Load data for each player into a pandas DataFrame\n",
    "for player_df in Player_DF_List:\n",
    "    # Removing \n",
    "    player_info = player_df.dropna()\n",
    "    # Selecting columns \"AB\" to \"RBI\"\n",
    "    selected_df = player_df.loc[:, \"AB\":\"RBI\"]\n",
    "    # Summing the selected columns\n",
    "    sum_result = selected_df.sum()\n",
    "    # Transpose the DataFrame\n",
    "    transposed_df = sum_result.to_frame().transpose()\n",
    "    # Set the headers as the items in .loc slice\n",
    "    transposed_df.columns = selected_df.columns\n",
    "    # Replace the zero index with the player's name\n",
    "    transposed_df.rename(index={0: player}, inplace=True)\n",
    "    # Append the transposed DataFrame to the list\n",
    "    all_player_dfs.append(transposed_df)\n",
    "\n",
    "# Concatenate all the player DataFrames into one DataFrame\n",
    "merged_df = merged_df.sort_values(by = \"RBI\",ascending=False)\n",
    "print(merged_df)"
   ]
  }
 ],
 "metadata": {
  "kernelspec": {
   "display_name": "base",
   "language": "python",
   "name": "python3"
  },
  "language_info": {
   "codemirror_mode": {
    "name": "ipython",
    "version": 3
   },
   "file_extension": ".py",
   "mimetype": "text/x-python",
   "name": "python",
   "nbconvert_exporter": "python",
   "pygments_lexer": "ipython3",
   "version": "3.12.2"
  }
 },
 "nbformat": 4,
 "nbformat_minor": 2
}
