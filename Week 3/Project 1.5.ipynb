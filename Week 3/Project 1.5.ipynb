{
 "cells": [
  {
   "cell_type": "code",
   "execution_count": 57,
   "metadata": {},
   "outputs": [
    {
     "name": "stdout",
     "output_type": "stream",
     "text": [
      "                AB     R     H   2B  3B   HR   RBI\n",
      "Hank Aaron:  12364  2174  3771  624  98  755  2297\n"
     ]
    }
   ],
   "source": [
    "import pandas as pd\n",
    "import os\n",
    "\n",
    "# CSV files to pull desired data\n",
    "files = {\n",
    "    \"HA\": \"Hank Aaron Stats.csv\",\n",
    "    \"BB\": \"Barry Bonds Stats.csv\",\n",
    "    \"TC\": \"Ty Cobb Stats.csv\",\n",
    "    \"WM\": \"Willie Mays Stats.csv\",\n",
    "    \"SM\": \"Stan Musial Stats.csv\",\n",
    "    \"AP\": \"Albert Pujols Stats.csv\",\n",
    "    \"PR\": \"Pete Rose Stats.csv\",\n",
    "    \"BR\": \"Babe Ruth Stats.csv\",\n",
    "    \"HW\": \"Honus Wagner Stats.csv\",\n",
    "    \"TW\": \"Ted Williams Stats.csv\"\n",
    "}\n",
    "\n",
    "# Base directory path\n",
    "base_dir = r\"C:\\Users\\zscon\\Desktop\\SSE_591\\repo\\SSE591_Week3\\Week 3\\Baseball Statistics\"\n",
    "\n",
    "# Dictionary to store player dataframes\n",
    "player_dataframes = {}\n",
    "\n",
    "# Load data for each player into a pandas DataFrame\n",
    "for player, file_name in files.items():\n",
    "    file_path = os.path.join(base_dir, file_name)\n",
    "    player_dataframes[player] = pd.read_csv(file_path)\n",
    "\n",
    "# Now you can access each player's DataFrame using their respective keys\n",
    "# For example:\n",
    "HA_df1 = player_dataframes[\"HA\"]\n",
    "HA_df2 = HA_df1.loc[:, \"AB\":\"RBI\"]  # Selecting columns \"G\" to \"SO\"\n",
    "HA_sum = HA_df2.sum()  # Summing the selected columns\n",
    "trans_HA_df = HA_sum.to_frame().transpose()  # Transpose the DataFrame\n",
    "transposed_HA_df.columns = HA_df2.columns  # Set the headers as the items in .loc slice\n",
    "transposed_HA_df.rename(index={0: 'Hank Aaron:'}, inplace=True) \n",
    "print(transposed_HA_df)"
   ]
  }
 ],
 "metadata": {
  "kernelspec": {
   "display_name": "base",
   "language": "python",
   "name": "python3"
  },
  "language_info": {
   "codemirror_mode": {
    "name": "ipython",
    "version": 3
   },
   "file_extension": ".py",
   "mimetype": "text/x-python",
   "name": "python",
   "nbconvert_exporter": "python",
   "pygments_lexer": "ipython3",
   "version": "3.12.3"
  }
 },
 "nbformat": 4,
 "nbformat_minor": 2
}
