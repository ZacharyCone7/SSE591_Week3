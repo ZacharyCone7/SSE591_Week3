{
 "cells": [
  {
   "cell_type": "markdown",
   "metadata": {},
   "source": [
    "## Set up for Statistical Analysis"
   ]
  },
  {
   "cell_type": "code",
   "execution_count": 2,
   "metadata": {},
   "outputs": [],
   "source": [
    "import pandas as pd\n",
    "import os\n",
    "\n",
    "# Loading CSV files\n",
    "HA_df = pd.read_csv(r\"C:\\Users\\zscon\\Desktop\\SSE_591\\repo\\SSE591_Week3\\Week 3\\Baseball Statistics\\Hank Aaron Stats.csv\")\n",
    "BB_df = pd.read_csv(r\"C:\\Users\\zscon\\Desktop\\SSE_591\\repo\\SSE591_Week3\\Week 3\\Baseball Statistics\\Barry Bonds Stats.csv\")\n",
    "TC_df = pd.read_csv(r\"C:\\Users\\zscon\\Desktop\\SSE_591\\repo\\SSE591_Week3\\Week 3\\Baseball Statistics\\Ty Cobb Stats.csv\")\n",
    "WM_df = pd.read_csv(r\"C:\\Users\\zscon\\Desktop\\SSE_591\\repo\\SSE591_Week3\\Week 3\\Baseball Statistics\\Willie Mays Stats.csv\")\n",
    "SM_df = pd.read_csv(r\"C:\\Users\\zscon\\Desktop\\SSE_591\\repo\\SSE591_Week3\\Week 3\\Baseball Statistics\\Stan Musial Stats.csv\")\n",
    "AP_df = pd.read_csv(r\"C:\\Users\\zscon\\Desktop\\SSE_591\\repo\\SSE591_Week3\\Week 3\\Baseball Statistics\\Albert Pujols Stats.csv\")\n",
    "PR_df = pd.read_csv(r\"C:\\Users\\zscon\\Desktop\\SSE_591\\repo\\SSE591_Week3\\Week 3\\Baseball Statistics\\Pete Rose Stats.csv\")\n",
    "BR_df = pd.read_csv(r\"C:\\Users\\zscon\\Desktop\\SSE_591\\repo\\SSE591_Week3\\Week 3\\Baseball Statistics\\Babe Ruth Stats.csv\")\n",
    "HW_df = pd.read_csv(r\"C:\\Users\\zscon\\Desktop\\SSE_591\\repo\\SSE591_Week3\\Week 3\\Baseball Statistics\\Honus Wagner Stats.csv\")\n",
    "TW_df = pd.read_csv(r\"C:\\Users\\zscon\\Desktop\\SSE_591\\repo\\SSE591_Week3\\Week 3\\Baseball Statistics\\Ted Williams Stats.csv\")\n",
    "\n",
    "# list of names for looping and naming\n",
    "Names = [\"Hank Aaron\", \"Barry Bonds\", \"Ty Cobb\", \"Willie Mays\", \"Stan Musial\",\n",
    "        \"Albert Pujols\", \"Pete Rose\", \"Babe Ruth\", \"Honus Wagner\", \"Ted Williams\"]\n",
    "\n",
    "# list of player dataframes for looping\n",
    "Player_DF_List = [HA_df, BB_df, TC_df, WM_df, SM_df, AP_df, PR_df, BR_df, HW_df, TW_df]\n",
    "\n",
    "# Initialize an empty DataFrame\n",
    "merged_df = pd.DataFrame()"
   ]
  },
  {
   "cell_type": "markdown",
   "metadata": {},
   "source": [
    "## Conversion of lists to DataFrames with index manipulation"
   ]
  },
  {
   "cell_type": "code",
   "execution_count": 3,
   "metadata": {},
   "outputs": [],
   "source": [
    "# initialize an empty list\n",
    "all_player_dfs = []\n",
    "\n",
    "i = 0\n",
    "# Load data for each player into a pandas DataFrame\n",
    "for player_df in Player_DF_List:\n",
    "    # Removing \n",
    "    player_info = player_df.dropna()\n",
    "    # Selecting columns \"AB\" to \"RBI\"\n",
    "    selected_df = player_info.loc[:, \"AB\":\"RBI\"]\n",
    "    # Summing the selected columns\n",
    "    sum_result = selected_df.sum()\n",
    "    # Transpose the DataFrame\n",
    "    transposed_df = sum_result.to_frame().transpose()\n",
    "    # Set the headers as the items in .loc slice\n",
    "    transposed_df.columns = selected_df.columns\n",
    "    # Replace the zero index with the player's name\n",
    "    transposed_df.rename(index={0: Names[i]}, inplace=True)\n",
    "    # Append the transposed DataFrame to the list\n",
    "    all_player_dfs.append(transposed_df)\n",
    "    i += 1\n",
    "    \n",
    "# Concatenate all the player DataFrames into one DataFrame\n",
    "merged_df = pd.concat(all_player_dfs)"
   ]
  },
  {
   "cell_type": "markdown",
   "metadata": {},
   "source": [
    "## Display of statistical comparison"
   ]
  },
  {
   "cell_type": "code",
   "execution_count": 4,
   "metadata": {},
   "outputs": [
    {
     "name": "stdout",
     "output_type": "stream",
     "text": [
      "                    AB       R       H     2B     3B     HR     RBI\n",
      "Pete Rose      14053.0  2165.0  4256.0  746.0  135.0  160.0  1314.0\n",
      "Ty Cobb        11440.0  2245.0  4189.0  724.0  295.0  117.0  1944.0\n",
      "Hank Aaron     12364.0  2174.0  3771.0  624.0   98.0  755.0  2297.0\n",
      "Stan Musial    10972.0  1949.0  3630.0  725.0  177.0  475.0  1951.0\n",
      "Albert Pujols  11696.0  1943.0  3449.0  689.0   16.0  720.0  2268.0\n",
      "Honus Wagner   10439.0  1739.0  3420.0  643.0  252.0  101.0  1732.0\n",
      "Willie Mays    10881.0  2062.0  3283.0  523.0  140.0  660.0  1903.0\n",
      "Barry Bonds     9847.0  2227.0  2935.0  601.0   77.0  762.0  1996.0\n",
      "Babe Ruth       8399.0  2174.0  2873.0  506.0  136.0  714.0  2214.0\n",
      "Ted Williams    7706.0  1798.0  2654.0  525.0   71.0  521.0  1839.0\n"
     ]
    }
   ],
   "source": [
    "merged_df = merged_df.sort_values(by=\"H\", ascending=False)\n",
    "print(merged_df)"
   ]
  },
  {
   "cell_type": "code",
   "execution_count": 4,
   "metadata": {},
   "outputs": [
    {
     "name": "stdout",
     "output_type": "stream",
     "text": [
      "                    AB       R       H     2B     3B     HR     RBI\n",
      "Barry Bonds     9847.0  2227.0  2935.0  601.0   77.0  762.0  1996.0\n",
      "Hank Aaron     12364.0  2174.0  3771.0  624.0   98.0  755.0  2297.0\n",
      "Albert Pujols  11696.0  1943.0  3449.0  689.0   16.0  720.0  2268.0\n",
      "Babe Ruth       8399.0  2174.0  2873.0  506.0  136.0  714.0  2214.0\n",
      "Willie Mays    10881.0  2062.0  3283.0  523.0  140.0  660.0  1903.0\n",
      "Ted Williams    7706.0  1798.0  2654.0  525.0   71.0  521.0  1839.0\n",
      "Stan Musial    10972.0  1949.0  3630.0  725.0  177.0  475.0  1951.0\n",
      "Pete Rose      14053.0  2165.0  4256.0  746.0  135.0  160.0  1314.0\n",
      "Ty Cobb        11440.0  2245.0  4189.0  724.0  295.0  117.0  1944.0\n",
      "Honus Wagner   10439.0  1739.0  3420.0  643.0  252.0  101.0  1732.0\n"
     ]
    }
   ],
   "source": [
    "merged_df = merged_df.sort_values(by=\"HR\", ascending=False)\n",
    "print(merged_df)"
   ]
  },
  {
   "cell_type": "code",
   "execution_count": 5,
   "metadata": {},
   "outputs": [
    {
     "name": "stdout",
     "output_type": "stream",
     "text": [
      "                    AB       R       H     2B     3B     HR     RBI\n",
      "Hank Aaron     12364.0  2174.0  3771.0  624.0   98.0  755.0  2297.0\n",
      "Albert Pujols  11696.0  1943.0  3449.0  689.0   16.0  720.0  2268.0\n",
      "Babe Ruth       8399.0  2174.0  2873.0  506.0  136.0  714.0  2214.0\n",
      "Barry Bonds     9847.0  2227.0  2935.0  601.0   77.0  762.0  1996.0\n",
      "Stan Musial    10972.0  1949.0  3630.0  725.0  177.0  475.0  1951.0\n",
      "Ty Cobb        11440.0  2245.0  4189.0  724.0  295.0  117.0  1944.0\n",
      "Willie Mays    10881.0  2062.0  3283.0  523.0  140.0  660.0  1903.0\n",
      "Ted Williams    7706.0  1798.0  2654.0  525.0   71.0  521.0  1839.0\n",
      "Honus Wagner   10439.0  1739.0  3420.0  643.0  252.0  101.0  1732.0\n",
      "Pete Rose      14053.0  2165.0  4256.0  746.0  135.0  160.0  1314.0\n"
     ]
    }
   ],
   "source": [
    "merged_df = merged_df.sort_values(by=\"RBI\", ascending=False)\n",
    "print(merged_df)"
   ]
  },
  {
   "cell_type": "markdown",
   "metadata": {},
   "source": [
    "## Pandas calcualtions"
   ]
  },
  {
   "cell_type": "code",
   "execution_count": 32,
   "metadata": {},
   "outputs": [
    {
     "name": "stdout",
     "output_type": "stream",
     "text": [
      "             Name  Batting Avg  On-base %  Slugging %       OPS\n",
      "1      Hank Aaron     0.301075   0.373623    0.547687  0.921310\n",
      "2     Barry Bonds     0.298306   0.440453    0.615488  1.055941\n",
      "3         Ty Cobb     0.360811   0.422690    0.503357  0.926047\n",
      "4     Willie Mays     0.291279   0.375888    0.527731  0.903620\n",
      "5     Stan Musial     0.329902   0.412437    0.550035  0.962472\n",
      "6   Albert Pujols     0.285641   0.353727    0.524347  0.878074\n",
      "7       Pete Rose     0.299144   0.369787    0.400818  0.770606\n",
      "8       Babe Ruth     0.322713   0.439081    0.634089  1.073170\n",
      "9    Honus Wagner     0.325976   0.382442    0.461328  0.843771\n",
      "10   Ted Williams     0.347643   0.479896    0.656677  1.136573\n"
     ]
    }
   ],
   "source": [
    "# Initialize empty lists for all metrics\n",
    "batting_avg = []\n",
    "on_base_perc = []\n",
    "slugging_perc = []\n",
    "OPS = []\n",
    "\n",
    "# Loop through each player's DataFrame\n",
    "for player_df in Player_DF_List:\n",
    "    # Calculate number of singles\n",
    "    player_df['S'] = player_df['H'] - player_df['2B'] - player_df['3B'] - player_df['HR']\n",
    "    \n",
    "    # Calculate Batting Average\n",
    "    player_df['BA'] = player_df['H'] / player_df['AB']\n",
    "    \n",
    "    # Calculate On-base Percentage\n",
    "    player_df['OBP'] = (player_df['H'] + player_df['BB']) / (player_df['AB'] + player_df['BB'])\n",
    "    \n",
    "    # Calculate Slugging Percentage\n",
    "    player_df['SLG'] = (player_df['S'] + 2*player_df['2B'] + 3*player_df['3B'] + 4*player_df['HR']) / player_df['AB']\n",
    "    \n",
    "    # Calculate On-base Plus Slugging\n",
    "    player_df['OPS'] = player_df['OBP'] + player_df['SLG']\n",
    "\n",
    "# Append metrics to respective lists\n",
    "    batting_avg.append(player_df['BA'].mean())\n",
    "    on_base_perc.append(player_df['OBP'].mean())\n",
    "    slugging_perc.append(player_df['SLG'].mean())\n",
    "    OPS.append(player_df['OPS'].mean())    \n",
    "\n",
    "# Create a DataFrame for the results\n",
    "results_df = pd.DataFrame({'Name': Names, 'Batting Avg': batting_avg, 'On-base %': on_base_perc,\n",
    "                           'Slugging %': slugging_perc, 'OPS': OPS})\n",
    "\n",
    "# Set index starting at 1\n",
    "results_df.index += 1\n",
    "print(results_df)\n"
   ]
  },
  {
   "cell_type": "code",
   "execution_count": 37,
   "metadata": {},
   "outputs": [
    {
     "name": "stdout",
     "output_type": "stream",
     "text": [
      "Ranking based on Batting Average:\n",
      "             Name  Batting Avg  On-base %  Slugging %       OPS\n",
      "1         Ty Cobb     0.360811   0.422690    0.503357  0.926047\n",
      "2    Ted Williams     0.347643   0.479896    0.656677  1.136573\n",
      "3     Stan Musial     0.329902   0.412437    0.550035  0.962472\n",
      "4    Honus Wagner     0.325976   0.382442    0.461328  0.843771\n",
      "5       Babe Ruth     0.322713   0.439081    0.634089  1.073170\n",
      "6      Hank Aaron     0.301075   0.373623    0.547687  0.921310\n",
      "7       Pete Rose     0.299144   0.369787    0.400818  0.770606\n",
      "8     Barry Bonds     0.298306   0.440453    0.615488  1.055941\n",
      "9     Willie Mays     0.291279   0.375888    0.527731  0.903620\n",
      "10  Albert Pujols     0.285641   0.353727    0.524347  0.878074\n",
      "\n",
      "Ranking based on On-base Percentage:\n",
      "             Name  Batting Avg  On-base %  Slugging %       OPS\n",
      "1    Ted Williams     0.347643   0.479896    0.656677  1.136573\n",
      "2     Barry Bonds     0.298306   0.440453    0.615488  1.055941\n",
      "3       Babe Ruth     0.322713   0.439081    0.634089  1.073170\n",
      "4         Ty Cobb     0.360811   0.422690    0.503357  0.926047\n",
      "5     Stan Musial     0.329902   0.412437    0.550035  0.962472\n",
      "6    Honus Wagner     0.325976   0.382442    0.461328  0.843771\n",
      "7     Willie Mays     0.291279   0.375888    0.527731  0.903620\n",
      "8      Hank Aaron     0.301075   0.373623    0.547687  0.921310\n",
      "9       Pete Rose     0.299144   0.369787    0.400818  0.770606\n",
      "10  Albert Pujols     0.285641   0.353727    0.524347  0.878074\n",
      "\n",
      "Ranking based on Slugging Percentage:\n",
      "             Name  Batting Avg  On-base %  Slugging %       OPS\n",
      "1    Ted Williams     0.347643   0.479896    0.656677  1.136573\n",
      "2       Babe Ruth     0.322713   0.439081    0.634089  1.073170\n",
      "3     Barry Bonds     0.298306   0.440453    0.615488  1.055941\n",
      "4     Stan Musial     0.329902   0.412437    0.550035  0.962472\n",
      "5      Hank Aaron     0.301075   0.373623    0.547687  0.921310\n",
      "6     Willie Mays     0.291279   0.375888    0.527731  0.903620\n",
      "7   Albert Pujols     0.285641   0.353727    0.524347  0.878074\n",
      "8         Ty Cobb     0.360811   0.422690    0.503357  0.926047\n",
      "9    Honus Wagner     0.325976   0.382442    0.461328  0.843771\n",
      "10      Pete Rose     0.299144   0.369787    0.400818  0.770606\n",
      "\n",
      "Ranking based on OPS:\n",
      "             Name  Batting Avg  On-base %  Slugging %       OPS\n",
      "1    Ted Williams     0.347643   0.479896    0.656677  1.136573\n",
      "2       Babe Ruth     0.322713   0.439081    0.634089  1.073170\n",
      "3     Barry Bonds     0.298306   0.440453    0.615488  1.055941\n",
      "4     Stan Musial     0.329902   0.412437    0.550035  0.962472\n",
      "5         Ty Cobb     0.360811   0.422690    0.503357  0.926047\n",
      "6      Hank Aaron     0.301075   0.373623    0.547687  0.921310\n",
      "7     Willie Mays     0.291279   0.375888    0.527731  0.903620\n",
      "8   Albert Pujols     0.285641   0.353727    0.524347  0.878074\n",
      "9    Honus Wagner     0.325976   0.382442    0.461328  0.843771\n",
      "10      Pete Rose     0.299144   0.369787    0.400818  0.770606\n"
     ]
    }
   ],
   "source": [
    "# Sort the DataFrame based on each metric and reset index\n",
    "results_df_sorted_AVG = results_df.sort_values(by='Batting Avg', ascending=False).reset_index(drop=True)\n",
    "results_df_sorted_OBP = results_df.sort_values(by='On-base %', ascending=False).reset_index(drop=True)\n",
    "results_df_sorted_SLG = results_df.sort_values(by='Slugging %', ascending=False).reset_index(drop=True)\n",
    "results_df_sorted_OPS = results_df.sort_values(by='OPS', ascending=False).reset_index(drop=True)\n",
    "\n",
    "# Set index starting at 1\n",
    "results_df_sorted_AVG.index += 1\n",
    "results_df_sorted_OBP.index += 1\n",
    "results_df_sorted_SLG.index += 1\n",
    "results_df_sorted_OPS.index += 1\n",
    "\n",
    "# Print the sorted DataFrames without index numbers\n",
    "print(\"Ranking based on Batting Average:\")\n",
    "print(results_df_sorted_AVG)\n",
    "\n",
    "print(\"\\nRanking based on On-base Percentage:\")\n",
    "print(results_df_sorted_OBP)\n",
    "\n",
    "print(\"\\nRanking based on Slugging Percentage:\")\n",
    "print(results_df_sorted_SLG)\n",
    "\n",
    "print(\"\\nRanking based on OPS:\")\n",
    "print(results_df_sorted_OPS)"
   ]
  }
 ],
 "metadata": {
  "kernelspec": {
   "display_name": "base",
   "language": "python",
   "name": "python3"
  },
  "language_info": {
   "codemirror_mode": {
    "name": "ipython",
    "version": 3
   },
   "file_extension": ".py",
   "mimetype": "text/x-python",
   "name": "python",
   "nbconvert_exporter": "python",
   "pygments_lexer": "ipython3",
   "version": "3.12.3"
  }
 },
 "nbformat": 4,
 "nbformat_minor": 2
}
